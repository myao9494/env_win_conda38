{
 "cells": [
  {
   "cell_type": "code",
   "execution_count": 4,
   "metadata": {
    "ExecuteTime": {
     "end_time": "2019-02-04T11:01:34.848048Z",
     "start_time": "2019-02-04T11:01:34.450314Z"
    }
   },
   "outputs": [],
   "source": [
    "! explorer ."
   ]
  },
  {
   "cell_type": "code",
   "execution_count": 1,
   "metadata": {
    "ExecuteTime": {
     "end_time": "2020-09-03T21:19:00.838598Z",
     "start_time": "2020-09-03T21:19:00.156954Z"
    }
   },
   "outputs": [],
   "source": [
    "! code ."
   ]
  },
  {
   "cell_type": "code",
   "execution_count": 1,
   "metadata": {
    "ExecuteTime": {
     "end_time": "2020-09-03T23:01:07.388682Z",
     "start_time": "2020-09-03T23:01:06.039512Z"
    }
   },
   "outputs": [],
   "source": [
    "import env_copy\n",
    "self=env_copy.env_copy_anaconda()"
   ]
  },
  {
   "cell_type": "code",
   "execution_count": 2,
   "metadata": {
    "ExecuteTime": {
     "end_time": "2020-09-03T22:51:37.735461Z",
     "start_time": "2020-09-03T22:51:37.718472Z"
    }
   },
   "outputs": [
    {
     "data": {
      "text/plain": [
       "'C:\\\\Users\\\\mineo\\\\Anaconda38'"
      ]
     },
     "execution_count": 2,
     "metadata": {},
     "output_type": "execute_result"
    }
   ],
   "source": [
    "self.anaconda_dir"
   ]
  },
  {
   "cell_type": "code",
   "execution_count": 3,
   "metadata": {
    "ExecuteTime": {
     "end_time": "2020-09-03T22:51:50.769034Z",
     "start_time": "2020-09-03T22:51:38.438028Z"
    }
   },
   "outputs": [],
   "source": [
    "! conda list > list.txt"
   ]
  },
  {
   "cell_type": "markdown",
   "metadata": {},
   "source": [
    "## 差分のはじめを指定\n",
    "- file_env.csvをtemp.csvに名前を変える"
   ]
  },
  {
   "cell_type": "markdown",
   "metadata": {},
   "source": [
    "## 現在のファイルリストを取得"
   ]
  },
  {
   "cell_type": "code",
   "execution_count": 4,
   "metadata": {
    "ExecuteTime": {
     "end_time": "2020-09-03T22:53:31.406444Z",
     "start_time": "2020-09-03T22:51:50.874968Z"
    }
   },
   "outputs": [
    {
     "name": "stdout",
     "output_type": "stream",
     "text": [
      "OK\n"
     ]
    }
   ],
   "source": [
    "self.get_list()"
   ]
  },
  {
   "cell_type": "markdown",
   "metadata": {},
   "source": [
    "## 差分を確認\n",
    "file_env.csvとtemp.csvの差分をとる"
   ]
  },
  {
   "cell_type": "code",
   "execution_count": 5,
   "metadata": {
    "ExecuteTime": {
     "end_time": "2020-09-03T22:53:37.723554Z",
     "start_time": "2020-09-03T22:53:31.469404Z"
    }
   },
   "outputs": [],
   "source": [
    "self.get_diff_list()"
   ]
  },
  {
   "cell_type": "markdown",
   "metadata": {},
   "source": [
    "## 差分の中で100Mごえを確認"
   ]
  },
  {
   "cell_type": "code",
   "execution_count": 6,
   "metadata": {
    "ExecuteTime": {
     "end_time": "2020-09-03T22:53:37.838482Z",
     "start_time": "2020-09-03T22:53:37.804503Z"
    }
   },
   "outputs": [
    {
     "data": {
      "text/html": [
       "<div>\n",
       "<style scoped>\n",
       "    .dataframe tbody tr th:only-of-type {\n",
       "        vertical-align: middle;\n",
       "    }\n",
       "\n",
       "    .dataframe tbody tr th {\n",
       "        vertical-align: top;\n",
       "    }\n",
       "\n",
       "    .dataframe thead th {\n",
       "        text-align: right;\n",
       "    }\n",
       "</style>\n",
       "<table border=\"1\" class=\"dataframe\">\n",
       "  <thead>\n",
       "    <tr style=\"text-align: right;\">\n",
       "      <th></th>\n",
       "      <th>path</th>\n",
       "      <th>hash</th>\n",
       "      <th>MB</th>\n",
       "      <th>folder</th>\n",
       "    </tr>\n",
       "  </thead>\n",
       "  <tbody>\n",
       "    <tr>\n",
       "      <th>105958</th>\n",
       "      <td>C:\\Users\\mineo\\Anaconda38\\pkgs\\qt-5.12.5-h7ef1ec2_0.tar.bz2</td>\n",
       "      <td>nasi</td>\n",
       "      <td>109.508365</td>\n",
       "      <td>C:\\Users\\mineo\\Anaconda38\\pkgs</td>\n",
       "    </tr>\n",
       "  </tbody>\n",
       "</table>\n",
       "</div>"
      ],
      "text/plain": [
       "                                                               path  hash  \\\n",
       "105958  C:\\Users\\mineo\\Anaconda38\\pkgs\\qt-5.12.5-h7ef1ec2_0.tar.bz2  nasi   \n",
       "\n",
       "                MB                          folder  \n",
       "105958  109.508365  C:\\Users\\mineo\\Anaconda38\\pkgs  "
      ]
     },
     "execution_count": 6,
     "metadata": {},
     "output_type": "execute_result"
    }
   ],
   "source": [
    "self.diff_df[self.diff_df[\"MB\"]>99]"
   ]
  },
  {
   "cell_type": "markdown",
   "metadata": {},
   "source": [
    "## diff分のファイルを生成"
   ]
  },
  {
   "cell_type": "code",
   "execution_count": 3,
   "metadata": {
    "ExecuteTime": {
     "end_time": "2020-09-03T23:19:11.660148Z",
     "start_time": "2020-09-03T23:10:03.367660Z"
    }
   },
   "outputs": [
    {
     "name": "stdout",
     "output_type": "stream",
     "text": [
      "C:\\Users\\mineo\\Anaconda38\\share\\jupyter\\lab\\staging\\node_modules\\.cache\\terser-webpack-plugin\\content-v2\\sha512\\2e\\ba\\cfce62ec1f408830c0335f2b46219d58ee5b068473e7328690e542d2f92f2058865c600d845a2e404e282645529eb0322aa4429a84e189eb6b58c1b97c1a\n"
     ]
    }
   ],
   "source": [
    "self.create_diff_file()"
   ]
  },
  {
   "cell_type": "markdown",
   "metadata": {},
   "source": [
    "## git\n",
    "コマンドでやる"
   ]
  },
  {
   "cell_type": "code",
   "execution_count": 4,
   "metadata": {
    "ExecuteTime": {
     "end_time": "2020-09-03T23:20:41.627569Z",
     "start_time": "2020-09-03T23:20:41.397711Z"
    }
   },
   "outputs": [],
   "source": [
    "! start ."
   ]
  },
  {
   "cell_type": "code",
   "execution_count": null,
   "metadata": {},
   "outputs": [],
   "source": [
    "git add .\n",
    "git commit -m \"first\"\n",
    "git push"
   ]
  },
  {
   "cell_type": "markdown",
   "metadata": {},
   "source": [
    "## 環境のコピー"
   ]
  },
  {
   "cell_type": "code",
   "execution_count": null,
   "metadata": {},
   "outputs": [],
   "source": [
    "import pandas as pd\n",
    "import os, hashlib\n",
    "import shutil"
   ]
  },
  {
   "cell_type": "markdown",
   "metadata": {},
   "source": [
    "taisho_pathにコピー元のフォルダを指定する"
   ]
  },
  {
   "cell_type": "code",
   "execution_count": null,
   "metadata": {},
   "outputs": [],
   "source": [
    "# taisho_path = r\"C:\\Users\\mineo\\Downloads\\env_conda3_win_v1.1\"\n",
    "# taisho_path = r\"C:\\Users\\mineo\\Downloads\\env_conda3_win_v2\"\n",
    "# taisho_path = r\"C:\\Users\\mineo\\Downloads\\env_conda3_win_v3.1\"\n",
    "# taisho_path = r\"C:\\Users\\mineo\\Downloads\\env_conda3_win_v4\"\n",
    "taisho_path = r\"C:\\Users\\mineo\\Downloads\\env_conda3_win_v5\"\n",
    "csv_path = os.path.join(taisho_path,\"file_env_diff.csv\")\n",
    "csv_path\n",
    "home_path = os.path.join(taisho_path,\"diff_env\")\n",
    "home_path"
   ]
  },
  {
   "cell_type": "code",
   "execution_count": null,
   "metadata": {},
   "outputs": [],
   "source": [
    "c=pd.read_csv(csv_path, index_col=0)\n",
    "li=c[\"path\"].values.tolist()\n",
    "c.head()"
   ]
  },
  {
   "cell_type": "code",
   "execution_count": null,
   "metadata": {},
   "outputs": [],
   "source": [
    "for f_path_moto in li:\n",
    "    f_path_copy = f_path_moto.replace(r\"C:\\Users\\mineo\\Anaconda3\",os.environ['anaconda3'])\n",
    "    f_path_moto = f_path_moto.replace(r\"C:\\Users\\mineo\\Anaconda3\",home_path)\n",
    "    if not os.path.exists(os.path.dirname(f_path_copy)):\n",
    "        os.makedirs(os.path.dirname(f_path_copy))\n",
    "    shutil.copyfile(f_path_moto,f_path_copy)\n",
    "# print(f_path_copy,f_path_moto)"
   ]
  },
  {
   "cell_type": "code",
   "execution_count": null,
   "metadata": {},
   "outputs": [],
   "source": []
  },
  {
   "cell_type": "markdown",
   "metadata": {},
   "source": [
    "## factory"
   ]
  },
  {
   "cell_type": "code",
   "execution_count": null,
   "metadata": {
    "ExecuteTime": {
     "end_time": "2018-12-27T10:32:53.610245Z",
     "start_time": "2018-12-27T10:32:53.606247Z"
    }
   },
   "outputs": [],
   "source": [
    "import env_copy\n",
    "self=env_copy.env_copy_anaconda()"
   ]
  },
  {
   "cell_type": "code",
   "execution_count": null,
   "metadata": {
    "ExecuteTime": {
     "end_time": "2018-12-27T10:33:45.452860Z",
     "start_time": "2018-12-27T10:32:54.836929Z"
    }
   },
   "outputs": [],
   "source": [
    "df = self._get_list(\"diff_env\")"
   ]
  },
  {
   "cell_type": "code",
   "execution_count": null,
   "metadata": {
    "ExecuteTime": {
     "end_time": "2018-12-27T10:34:46.306352Z",
     "start_time": "2018-12-27T10:34:46.290363Z"
    }
   },
   "outputs": [],
   "source": [
    "df[df[\"MB\"]>30]"
   ]
  },
  {
   "cell_type": "code",
   "execution_count": null,
   "metadata": {},
   "outputs": [],
   "source": []
  }
 ],
 "metadata": {
  "kernelspec": {
   "display_name": "Python 3",
   "language": "python",
   "name": "python3"
  },
  "nbTranslate": {
   "displayLangs": [
    "japanese",
    "en"
   ],
   "hotkey": "alt-t",
   "langInMainMenu": true,
   "sourceLang": "en",
   "targetLang": "japanese",
   "useGoogleTranslate": true
  },
  "toc": {
   "base_numbering": 1,
   "nav_menu": {},
   "number_sections": true,
   "sideBar": true,
   "skip_h1_title": false,
   "title_cell": "Table of Contents",
   "title_sidebar": "Contents",
   "toc_cell": false,
   "toc_position": {},
   "toc_section_display": true,
   "toc_window_display": false
  },
  "varInspector": {
   "cols": {
    "lenName": 16,
    "lenType": 16,
    "lenVar": 40
   },
   "kernels_config": {
    "python": {
     "delete_cmd_postfix": "",
     "delete_cmd_prefix": "del ",
     "library": "var_list.py",
     "varRefreshCmd": "print(var_dic_list())"
    },
    "r": {
     "delete_cmd_postfix": ") ",
     "delete_cmd_prefix": "rm(",
     "library": "var_list.r",
     "varRefreshCmd": "cat(var_dic_list()) "
    }
   },
   "types_to_exclude": [
    "module",
    "function",
    "builtin_function_or_method",
    "instance",
    "_Feature"
   ],
   "window_display": false
  }
 },
 "nbformat": 4,
 "nbformat_minor": 2
}
